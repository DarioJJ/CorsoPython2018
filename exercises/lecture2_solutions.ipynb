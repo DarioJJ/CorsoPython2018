{
 "cells": [
  {
   "cell_type": "markdown",
   "metadata": {},
   "source": [
    "### Esercizio 1\n",
    "data una variabile N con valore intero qualsiasi, scrivi un ciclo `for` che stampi tutti i numeri naturali da 1 a N"
   ]
  },
  {
   "cell_type": "code",
   "execution_count": 1,
   "metadata": {},
   "outputs": [
    {
     "name": "stdout",
     "output_type": "stream",
     "text": [
      "1\n",
      "2\n",
      "3\n",
      "4\n",
      "5\n",
      "6\n",
      "7\n",
      "8\n",
      "9\n",
      "10\n"
     ]
    }
   ],
   "source": [
    "N = 10\n",
    "for i in range(1, N + 1):   # <- per avere i numeri da 1 a N, range deve andare a N+1\n",
    "    print(i)"
   ]
  },
  {
   "cell_type": "markdown",
   "metadata": {},
   "source": [
    "### Esercizio 2\n",
    "Scrivi un ciclo che stampi tutte le lettere dell'alfabeto. Per fare questo, utilizza la funzione python `chr` (vedi la [documentazione relativa](https://docs.python.org/3/library/functions.html#chr))"
   ]
  },
  {
   "cell_type": "code",
   "execution_count": 2,
   "metadata": {},
   "outputs": [
    {
     "name": "stdout",
     "output_type": "stream",
     "text": [
      "a\n"
     ]
    }
   ],
   "source": [
    "print(chr(97))"
   ]
  },
  {
   "cell_type": "code",
   "execution_count": 3,
   "metadata": {},
   "outputs": [
    {
     "name": "stdout",
     "output_type": "stream",
     "text": [
      "a\n",
      "b\n",
      "c\n",
      "d\n",
      "e\n",
      "f\n",
      "g\n",
      "h\n",
      "i\n",
      "j\n",
      "k\n",
      "l\n",
      "m\n",
      "n\n",
      "o\n",
      "p\n",
      "q\n",
      "r\n",
      "s\n",
      "t\n",
      "u\n",
      "v\n",
      "w\n",
      "x\n",
      "y\n",
      "z\n"
     ]
    }
   ],
   "source": [
    "for i in range(97,97+26):\n",
    "    print(chr(i))   # la funzione chr si usa \"dentro\" al ciclo, non\n",
    "                    # come argomento della funzione range"
   ]
  },
  {
   "cell_type": "markdown",
   "metadata": {},
   "source": [
    "### Esercizio 3\n",
    "Scrivi un ciclo che stampi i primi K quadrati perfetti"
   ]
  },
  {
   "cell_type": "code",
   "execution_count": 4,
   "metadata": {},
   "outputs": [
    {
     "name": "stdout",
     "output_type": "stream",
     "text": [
      "1\n",
      "4\n",
      "9\n",
      "16\n",
      "25\n",
      "36\n",
      "49\n",
      "64\n",
      "81\n",
      "100\n"
     ]
    }
   ],
   "source": [
    "K = 10\n",
    "for i in range(1,K+1):\n",
    "    print(i*i)"
   ]
  },
  {
   "cell_type": "markdown",
   "metadata": {},
   "source": [
    "### Esercizio 4\n",
    "Scrivi un ciclo che scriva se ciascun numero naturale da 1 a N è divisible per 2 o per 3"
   ]
  },
  {
   "cell_type": "code",
   "execution_count": 5,
   "metadata": {},
   "outputs": [
    {
     "name": "stdout",
     "output_type": "stream",
     "text": [
      "2  è divisibile per 2\n",
      "3  è divisibile per 3\n",
      "4  è divisibile per 2\n",
      "6  è divisibile per 2\n",
      "6  è divisibile per 3\n",
      "8  è divisibile per 2\n",
      "9  è divisibile per 3\n",
      "10  è divisibile per 2\n"
     ]
    }
   ],
   "source": [
    "N = 10\n",
    "for i in range(1,N+1):\n",
    "    if (i % 2 == 0):\n",
    "        print(i, \" è divisibile per 2\")\n",
    "    if (i % 3 == 0):\n",
    "        print(i, \" è divisibile per 3\")"
   ]
  },
  {
   "cell_type": "markdown",
   "metadata": {},
   "source": [
    "### Esercizio 5\n",
    "Attraverso un doppio ciclo `for`, scrivi un ciclo che, per ogni numero naturale da 1 a N, determini se è divisibile per ciascuno dei numeri naturali precedenti."
   ]
  },
  {
   "cell_type": "code",
   "execution_count": 6,
   "metadata": {},
   "outputs": [
    {
     "name": "stdout",
     "output_type": "stream",
     "text": [
      "4 è divisibile per  2\n",
      "6 è divisibile per  2\n",
      "6 è divisibile per  3\n",
      "8 è divisibile per  2\n",
      "8 è divisibile per  4\n",
      "9 è divisibile per  3\n",
      "10 è divisibile per  2\n",
      "10 è divisibile per  5\n"
     ]
    }
   ],
   "source": [
    "N = 10\n",
    "for i in range(2, N+1):           #faccio partire i cicli da 2, tanto tutto è divisibile per 1\n",
    "    for j in range(2, i//2 + 1):  # <- il secondo ciclo arriva fino a i/2. il \"+1\" serve a\n",
    "                                  # far terminare il secondo ciclo alla metà di i per i numeri pari.\n",
    "                                  # Provate a toglierlo per vedere cosa cambia\n",
    "        if (i % j == 0):\n",
    "            print(i, \"è divisibile per \", j)"
   ]
  },
  {
   "cell_type": "markdown",
   "metadata": {},
   "source": [
    "### Esercizio 6\n",
    "Tramite un ciclo `for`, scrivi un codice che calcoli la somma dei primi M numeri naturali, e che verifichi che essa è pari a $$\\frac{M(M+1)}{2} \\qquad \\text{(la formula di Gauss)}$$"
   ]
  },
  {
   "cell_type": "code",
   "execution_count": 7,
   "metadata": {},
   "outputs": [
    {
     "name": "stdout",
     "output_type": "stream",
     "text": [
      "5050 è esattamente uguale a 5050\n"
     ]
    }
   ],
   "source": [
    "M = 100\n",
    "\n",
    "# serve una variabile esterna, che \"accumuli\" il valore della somma\n",
    "somma = 0\n",
    "\n",
    "for i in range(1,M+1):\n",
    "    somma = somma + i     # spesso si abbrevia con `somma += i`\n",
    "    #print(somma)          # togliere il commento ad inizio riga se volete la somma stampata ad ogni iterazione\n",
    "\n",
    "\n",
    "print(                    # in python, all'interno di un paio di parentesi,\n",
    "      somma,              # si può andare a capo come si vuole\n",
    "                          # (tranne che all'interno di una stringa)\n",
    "      \"è esattamente uguale a\",\n",
    "      M *(M+1)//2         # la formula di Gauss\n",
    ")"
   ]
  }
 ],
 "metadata": {
  "kernelspec": {
   "display_name": "Python 3",
   "language": "python",
   "name": "python3"
  },
  "language_info": {
   "codemirror_mode": {
    "name": "ipython",
    "version": 3
   },
   "file_extension": ".py",
   "mimetype": "text/x-python",
   "name": "python",
   "nbconvert_exporter": "python",
   "pygments_lexer": "ipython3",
   "version": "3.6.4"
  }
 },
 "nbformat": 4,
 "nbformat_minor": 2
}
